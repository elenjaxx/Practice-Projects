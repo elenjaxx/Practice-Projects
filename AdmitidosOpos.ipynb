{
 "cells": [
  {
   "cell_type": "markdown",
   "id": "fae764cf-80fd-417f-8609-66db0092af67",
   "metadata": {},
   "source": [
    "# Buscador de admitidos en oposiciones\n",
    "\n",
    "Este script lo puedes utilizar para explorar el documento, normalmente un PDF, en el que se recopilan las listas de admitidos en una oposición. Simplemente escribe tu nombre, y el script te dirá si estás o no, sin tener que explorar manualmente el archivo, lo que suele provocar un dolor de cabeza por los formatos tan poco accesibles que suelen utilizarse. \n",
    "\n",
    "> Encontrarás dos opciones  \n",
    " 1. Documento descargado en tu ordenador (tendrás que subir el documento a tu lector de scripts, p.e cargarlo al jupyter lab)  \n",
    " 2. Documento disponible en la web (tendrás que introducir la url pertinente).  \n",
    "\n",
    "## Posible error:\n",
    "\n",
    "Si el documento tiene una encriptación muy compleja, este script no funcionará. A veces funciona cambiando el encoding, sugiero probar:  \n",
    "`with open('file.pdf', 'rb', encoding='utf-8') as file:`  \n",
    "\n",
    "> *Mejorable** Este script debería editarse para que lea bien el input independientemente de si pone el nombre de pila primero, después o no lo llega a escribir.\n",
    "    "
   ]
  },
  {
   "cell_type": "code",
   "execution_count": null,
   "id": "1492376b-3bda-4e79-b052-0d7a10273511",
   "metadata": {},
   "outputs": [],
   "source": [
    "# Para leer pdf descargado\n",
    "import PyPDF2\n",
    "\n",
    "# Pide el input al usuario para buscar su nombre\n",
    "user_input = input(\"Introduzca su nombre: \")\n",
    "\n",
    "# Como estas listas siempre las hacen en mayúsculas, nos aseguramos que el imput tenga el formato correcto:\n",
    "user_input = user_input.upper()\n",
    "\n",
    "# Abre el pdf\n",
    "with open(\"nombre.pdf\", \"rb\") as file:\n",
    "    # Lee los contenidos con PyPDF2\n",
    "    pdf = PyPDF2.PdfFileReader(file)\n",
    "\n",
    "    # Haz la búsqueda en el pdf\n",
    "    found = False\n",
    "    for page_num in range(pdf.getNumPages()):\n",
    "        text = pdf.getPage(page_num).extractText()\n",
    "        if user_input in text:\n",
    "            found = True\n",
    "            break\n",
    "\n",
    "    # Por último, imprime le mensaje según su resultado\n",
    "    if found:\n",
    "        print(\"Enhorabuena, apareces en este documento\")\n",
    "    else:\n",
    "        print(\"Lo siento, no apareces en este documento.\")\n"
   ]
  },
  {
   "cell_type": "code",
   "execution_count": null,
   "id": "bb47bca9-9b1a-4b83-bde6-256746354db7",
   "metadata": {},
   "outputs": [],
   "source": [
    "#Para leer el pdf desde la web, necesitarás usar web scrapping.\n",
    "\n",
    "import requests\n",
    "from bs4 import BeautifulSoup\n",
    "\n",
    "# Pide el input al usuario para buscar su nombre\n",
    "user_input = input(\"Introduzca su nombre: \")\n",
    "\n",
    "# Crea el request\n",
    "url = \"url\n",
    "\n",
    "+/-\"\n",
    "response = requests.get(url)\n",
    "\n",
    "# Analiza el html con beautiful soup\n",
    "soup = BeautifulSoup(response.text, \"html.parser\")\n",
    "\n",
    "# busca el input del usuario\n",
    "found = False\n",
    "for item in soup.find_all(\"li\"):\n",
    "    if user_input in item.text:\n",
    "        found = True\n",
    "        break\n",
    "\n",
    "# Imprime un mensaje según los resultados. \n",
    "if found:\n",
    "    print(\"He encontrado tu nombre en este documento\")\n",
    "else:\n",
    "    print(\"Lo siento, no encuentro tu nombre en este documento\")"
   ]
  }
 ],
 "metadata": {
  "kernelspec": {
   "display_name": "Python 3 (ipykernel)",
   "language": "python",
   "name": "python3"
  },
  "language_info": {
   "codemirror_mode": {
    "name": "ipython",
    "version": 3
   },
   "file_extension": ".py",
   "mimetype": "text/x-python",
   "name": "python",
   "nbconvert_exporter": "python",
   "pygments_lexer": "ipython3",
   "version": "3.9.13"
  }
 },
 "nbformat": 4,
 "nbformat_minor": 5
}
