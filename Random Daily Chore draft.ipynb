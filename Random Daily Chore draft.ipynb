{
 "cells": [
  {
   "cell_type": "code",
   "execution_count": null,
   "id": "cf2af691",
   "metadata": {},
   "outputs": [],
   "source": [
    "#this program allows you to be given a task without thinking it too much. \n",
    "#the idea is to do the task, no questions asked, even though anxiety or depression are hars on you."
   ]
  },
  {
   "cell_type": "code",
   "execution_count": 2,
   "id": "43330d5a",
   "metadata": {},
   "outputs": [],
   "source": [
    "import random\n"
   ]
  },
  {
   "cell_type": "code",
   "execution_count": 3,
   "id": "7e3ce42e",
   "metadata": {},
   "outputs": [],
   "source": [
    "taskchoices = (\"Sweep the floor\", \"Take the trash out\", \"Answer your mails\", \"Go for a walk\", \"Clean your room\", \n",
    "              \"clean the bathroom\", \"open all windows\", \"clean your computer\", \"prepare the meals for the day or week\",\n",
    "              \"take a shower\", \"call a friend\", \"drink some water\", \"work on your latest project\", \"do some journaling\",\n",
    "              \"update your resume\", \"pay the bills\", \"manage your professional social media\", \"go to sleep\",\n",
    "              \"read something you enjoy\", \"clean and manage your computer files\", \"do a skin care routine\")"
   ]
  },
  {
   "cell_type": "code",
   "execution_count": 2,
   "id": "934b669a",
   "metadata": {},
   "outputs": [
    {
     "ename": "NameError",
     "evalue": "name 'clickme' is not defined",
     "output_type": "error",
     "traceback": [
      "\u001b[1;31m---------------------------------------------------------------------------\u001b[0m",
      "\u001b[1;31mNameError\u001b[0m                                 Traceback (most recent call last)",
      "Input \u001b[1;32mIn [2]\u001b[0m, in \u001b[0;36m<cell line: 45>\u001b[1;34m()\u001b[0m\n\u001b[0;32m     39\u001b[0m     \u001b[38;5;28;01mdef\u001b[39;00m \u001b[38;5;21mclickme\u001b[39m(\u001b[38;5;28mself\u001b[39m): \n\u001b[0;32m     43\u001b[0m         \u001b[38;5;28mprint\u001b[39m(random\u001b[38;5;241m.\u001b[39mchoice(taskchoices))\n\u001b[1;32m---> 45\u001b[0m \u001b[38;5;28;01mclass\u001b[39;00m \u001b[38;5;21;01mWindow\u001b[39;00m(QMainWindow): \n\u001b[0;32m     47\u001b[0m     \u001b[38;5;28mprint\u001b[39m (clickme(\u001b[38;5;28mself\u001b[39m))\n\u001b[0;32m     49\u001b[0m App \u001b[38;5;241m=\u001b[39m QApplication(sys\u001b[38;5;241m.\u001b[39margv) \n",
      "Input \u001b[1;32mIn [2]\u001b[0m, in \u001b[0;36mWindow\u001b[1;34m()\u001b[0m\n\u001b[0;32m     45\u001b[0m \u001b[38;5;28;01mclass\u001b[39;00m \u001b[38;5;21;01mWindow\u001b[39;00m(QMainWindow): \n\u001b[1;32m---> 47\u001b[0m     \u001b[38;5;28mprint\u001b[39m (\u001b[43mclickme\u001b[49m(\u001b[38;5;28mself\u001b[39m))\n",
      "\u001b[1;31mNameError\u001b[0m: name 'clickme' is not defined"
     ]
    }
   ],
   "source": [
    "from PyQt5.QtWidgets import * \n",
    "from PyQt5.QtGui import * \n",
    "from PyQt5.QtCore import * \n",
    "import sys \n",
    "  \n",
    "  \n",
    "class Window(QMainWindow): \n",
    "    def __init__(self): \n",
    "        super().__init__() \n",
    "  \n",
    "        \n",
    "        self.setWindowTitle(\"Random Daily Chore\") \n",
    "  \n",
    "        \n",
    "        self.setGeometry(100, 100, 600, 400) \n",
    "  \n",
    "        \n",
    "        self.UiComponents() \n",
    "  \n",
    "        \n",
    "        self.show() \n",
    "  \n",
    "    \n",
    "    def UiComponents(self): \n",
    "  \n",
    "        \n",
    "        button = QPushButton(\"CLICK\", self) \n",
    "  \n",
    "        \n",
    "        button.setGeometry(200, 150, 100, 100) \n",
    "  \n",
    "        \n",
    "        button.setStyleSheet(\"border-radius : 50; border : 2px solid black\") \n",
    "  \n",
    "        \n",
    "        button.clicked.connect(self.clickme) \n",
    "  \n",
    "    \n",
    "    def clickme(self): \n",
    "  \n",
    "  \n",
    "        \n",
    "        print(random.choice(taskchoices))\n",
    "        \n",
    "  \n",
    "App = QApplication(sys.argv) \n",
    "  \n",
    "window = Window() \n",
    "  \n",
    "sys.exit(App.exec())\n",
    "#this is from acervo lima \n",
    "#try to do this shit importing a gif, just copy the part of the code that has the clickme function"
   ]
  },
  {
   "cell_type": "code",
   "execution_count": 1,
   "id": "05f430e7",
   "metadata": {},
   "outputs": [],
   "source": [
    "import tkinter as tk\n",
    "from tkinter import messagebox,ttk"
   ]
  },
  {
   "cell_type": "code",
   "execution_count": 5,
   "id": "aad75c88",
   "metadata": {},
   "outputs": [],
   "source": [
    "import random"
   ]
  },
  {
   "cell_type": "code",
   "execution_count": 8,
   "id": "b81f6c45",
   "metadata": {},
   "outputs": [],
   "source": [
    "taskchoices = (\"Sweep the floor\", \"Take the trash out\", \"Answer your mails\", \"Go for a walk\", \"Clean your room\", \n",
    "              \"clean the bathroom\", \"open all windows\", \"clean your computer\", \"prepare the meals for the day or week\",\n",
    "              \"take a shower\", \"call a friend\", \"drink some water\", \"work on your latest project\", \"do some journaling\",\n",
    "              \"update your resume\", \"pay the bills\", \"manage your professional social media\", \"go to sleep\")"
   ]
  },
  {
   "cell_type": "code",
   "execution_count": 14,
   "id": "406a439d",
   "metadata": {},
   "outputs": [],
   "source": [
    "def clicker ():\n",
    "    messagebox.showinfo(message=random.choice(taskchoices), title=\"Your Quest Is\")\n",
    "root= tk.Tk()\n",
    "root.config(width=200, height=200)\n",
    "root.title (\"Random Daily Chore\")\n",
    "clicker =ttk.Button (text=\"request a mission\", command=clicker)\n",
    "clicker.place(x=50, y=59)\n",
    "root.mainloop()"
   ]
  },
  {
   "cell_type": "code",
   "execution_count": null,
   "id": "ff8b7744",
   "metadata": {},
   "outputs": [],
   "source": [
    "#this program allows you to be given a task without thinking it too much. \n",
    "#the idea is to do the task, no questions asked, even though anxiety or depression are hars on you."
   ]
  }
 ],
 "metadata": {
  "kernelspec": {
   "display_name": "Python 3 (ipykernel)",
   "language": "python",
   "name": "python3"
  },
  "language_info": {
   "codemirror_mode": {
    "name": "ipython",
    "version": 3
   },
   "file_extension": ".py",
   "mimetype": "text/x-python",
   "name": "python",
   "nbconvert_exporter": "python",
   "pygments_lexer": "ipython3",
   "version": "3.9.12"
  }
 },
 "nbformat": 4,
 "nbformat_minor": 5
}
