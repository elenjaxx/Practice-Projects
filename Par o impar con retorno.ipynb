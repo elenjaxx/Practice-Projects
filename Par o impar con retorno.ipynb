{
 "cells": [
  {
   "cell_type": "code",
   "execution_count": null,
   "id": "02e3e764",
   "metadata": {},
   "outputs": [],
   "source": [
    "#Varios intentos de hacer el ejercicio simple de par o impar pidiendole retorno. El último es el correcto "
   ]
  },
  {
   "cell_type": "code",
   "execution_count": 1,
   "id": "db702588",
   "metadata": {},
   "outputs": [],
   "source": [
    "import math\n"
   ]
  },
  {
   "cell_type": "code",
   "execution_count": 2,
   "id": "372f2a7c",
   "metadata": {},
   "outputs": [
    {
     "name": "stdout",
     "output_type": "stream",
     "text": [
      "Elige un número entero:6\n",
      "este número es par\n",
      "Elige un número entero:3\n",
      "este número es impar\n",
      "Elige un número entero:1\n"
     ]
    }
   ],
   "source": [
    "userchoice = int(input(\"Elige un número entero:\"))\n",
    "\n",
    "while userchoice%2==0:\n",
    "    print (\"este número es par\")\n",
    "    userchoice=int(input(\"Elige un número entero:\"))\n",
    "    \n",
    "else:\n",
    "    print (\"este número es impar\")\n",
    "    userchoice=int(input(\"Elige un número entero:\"))\n"
   ]
  },
  {
   "cell_type": "code",
   "execution_count": 12,
   "id": "e0c46086",
   "metadata": {},
   "outputs": [],
   "source": [
    "def retorno ():\n",
    "    userchoice = int(input(\"Elige un número entero:\"))\n",
    "\n",
    "    while userchoice%2==0:\n",
    "        print (\"este número es par\")\n",
    "    else:\n",
    "        print (\"este número es impar\")\n",
    "        return retorno\n",
    "    "
   ]
  },
  {
   "cell_type": "code",
   "execution_count": 13,
   "id": "2f5069a6",
   "metadata": {},
   "outputs": [
    {
     "ename": "SyntaxError",
     "evalue": "cannot assign to operator (902035347.py, line 4)",
     "output_type": "error",
     "traceback": [
      "\u001b[1;36m  Input \u001b[1;32mIn [13]\u001b[1;36m\u001b[0m\n\u001b[1;33m    print (\"este número es par\") and userchoice=int(input(\"Elige un número entero:\"))\u001b[0m\n\u001b[1;37m    ^\u001b[0m\n\u001b[1;31mSyntaxError\u001b[0m\u001b[1;31m:\u001b[0m cannot assign to operator\n"
     ]
    }
   ],
   "source": [
    "userchoice = int(input(\"Elige un número entero:\"))\n",
    "\n",
    "while userchoice%2==0:\n",
    "    print (\"este número es par\") and userchoice=int(input(\"Elige un número entero:\"))\n",
    "    \n",
    "else:\n",
    "    print (\"este número es impar\") and userchoice=int(input(\"Elige un número entero:\"))"
   ]
  },
  {
   "cell_type": "code",
   "execution_count": 14,
   "id": "ba0b13cc",
   "metadata": {},
   "outputs": [
    {
     "name": "stdout",
     "output_type": "stream",
     "text": [
      "Elige un número entero:4\n"
     ]
    },
    {
     "ename": "AttributeError",
     "evalue": "'int' object has no attribute 'loop'",
     "output_type": "error",
     "traceback": [
      "\u001b[1;31m---------------------------------------------------------------------------\u001b[0m",
      "\u001b[1;31mAttributeError\u001b[0m                            Traceback (most recent call last)",
      "Input \u001b[1;32mIn [14]\u001b[0m, in \u001b[0;36m<cell line: 1>\u001b[1;34m()\u001b[0m\n\u001b[1;32m----> 1\u001b[0m userchoice \u001b[38;5;241m=\u001b[39m \u001b[38;5;28;43mint\u001b[39;49m\u001b[43m(\u001b[49m\u001b[38;5;28;43minput\u001b[39;49m\u001b[43m(\u001b[49m\u001b[38;5;124;43m\"\u001b[39;49m\u001b[38;5;124;43mElige un número entero:\u001b[39;49m\u001b[38;5;124;43m\"\u001b[39;49m\u001b[43m)\u001b[49m\u001b[43m)\u001b[49m\u001b[38;5;241;43m.\u001b[39;49m\u001b[43mloop\u001b[49m\n\u001b[0;32m      3\u001b[0m \u001b[38;5;28;01mwhile\u001b[39;00m userchoice\u001b[38;5;241m%\u001b[39m\u001b[38;5;241m2\u001b[39m\u001b[38;5;241m==\u001b[39m\u001b[38;5;241m0\u001b[39m:\n\u001b[0;32m      4\u001b[0m     \u001b[38;5;28mprint\u001b[39m (\u001b[38;5;124m\"\u001b[39m\u001b[38;5;124meste número es par\u001b[39m\u001b[38;5;124m\"\u001b[39m)\n",
      "\u001b[1;31mAttributeError\u001b[0m: 'int' object has no attribute 'loop'"
     ]
    }
   ],
   "source": [
    "userchoice = int(input(\"Elige un número entero:\")).loop\n",
    "\n",
    "while userchoice%2==0:\n",
    "    print (\"este número es par\")\n",
    "    userchoice=int(input(\"Elige un número entero:\"))\n",
    "    \n",
    "else:\n",
    "    print (\"este número es impar\")\n",
    "    userchoice=int(input(\"Elige un número entero:\"))"
   ]
  },
  {
   "cell_type": "code",
   "execution_count": 20,
   "id": "b9c1fec6",
   "metadata": {},
   "outputs": [
    {
     "name": "stdout",
     "output_type": "stream",
     "text": [
      "Elige un número entero:7\n",
      "este número es impar\n"
     ]
    },
    {
     "ename": "AttributeError",
     "evalue": "'int' object has no attribute 'loop'",
     "output_type": "error",
     "traceback": [
      "\u001b[1;31m---------------------------------------------------------------------------\u001b[0m",
      "\u001b[1;31mAttributeError\u001b[0m                            Traceback (most recent call last)",
      "Input \u001b[1;32mIn [20]\u001b[0m, in \u001b[0;36m<cell line: 3>\u001b[1;34m()\u001b[0m\n\u001b[0;32m      6\u001b[0m \u001b[38;5;28;01melse\u001b[39;00m:\n\u001b[0;32m      7\u001b[0m     \u001b[38;5;28mprint\u001b[39m (\u001b[38;5;124m\"\u001b[39m\u001b[38;5;124meste número es impar\u001b[39m\u001b[38;5;124m\"\u001b[39m)\n\u001b[1;32m----> 8\u001b[0m     \u001b[43muserchoice\u001b[49m\u001b[38;5;241;43m.\u001b[39;49m\u001b[43mloop\u001b[49m()\n",
      "\u001b[1;31mAttributeError\u001b[0m: 'int' object has no attribute 'loop'"
     ]
    }
   ],
   "source": [
    "userchoice = int(input(\"Elige un número entero:\"))\n",
    "\n",
    "while userchoice%2==0:\n",
    "    print (\"este número es par\")\n",
    "    userchoice.loop()\n",
    "else:\n",
    "    print (\"este número es impar\")\n",
    "    userchoice.loop()"
   ]
  },
  {
   "cell_type": "code",
   "execution_count": 22,
   "id": "1f95d35e",
   "metadata": {},
   "outputs": [
    {
     "name": "stdout",
     "output_type": "stream",
     "text": [
      "Elige un número entero:7\n",
      "este número es impar\n",
      "Elige un número entero:8\n"
     ]
    }
   ],
   "source": [
    "userchoice = int(input(\"Elige un número entero:\"))\n",
    "\n",
    "if userchoice%2==0:\n",
    "    print (\"este número es par\")\n",
    "    int(input(\"Elige un número entero:\"))\n",
    "else:\n",
    "    print (\"este número es impar\")\n",
    "    int(input(\"Elige un número entero:\"))\n"
   ]
  },
  {
   "cell_type": "code",
   "execution_count": 23,
   "id": "a693e832",
   "metadata": {},
   "outputs": [
    {
     "name": "stdout",
     "output_type": "stream",
     "text": [
      "Elige un número entero:3\n"
     ]
    },
    {
     "ename": "SyntaxError",
     "evalue": "'continue' not properly in loop (2150720639.py, line 8)",
     "output_type": "error",
     "traceback": [
      "\u001b[1;36m  Input \u001b[1;32mIn [23]\u001b[1;36m\u001b[0m\n\u001b[1;33m    continue\u001b[0m\n\u001b[1;37m    ^\u001b[0m\n\u001b[1;31mSyntaxError\u001b[0m\u001b[1;31m:\u001b[0m 'continue' not properly in loop\n"
     ]
    }
   ],
   "source": [
    "userchoice = int(input(\"Elige un número entero:\"))\n",
    "\n",
    "while userchoice%2==0:\n",
    "    print (\"este número es par\")\n",
    "    continue\n",
    "else:\n",
    "    print (\"este número es impar\")\n",
    "    continue"
   ]
  },
  {
   "cell_type": "code",
   "execution_count": null,
   "id": "55ec3ca6",
   "metadata": {},
   "outputs": [
    {
     "name": "stdout",
     "output_type": "stream",
     "text": [
      "Elige un número entero:5\n",
      "este número es impar\n",
      "Elige un número entero:2\n",
      "este número es par\n",
      "Elige un número entero:4\n",
      "este número es par\n",
      "Elige un número entero:1\n",
      "este número es impar\n"
     ]
    }
   ],
   "source": [
    "par_impar = True #NECESITAS DECLARAR ESTO PARA PODER ABRIR UN BUCLE QUE TENGA \"CONTINUE\", SI NO LO HACES NO HAY RETORNO BITCHH\n",
    "while par_impar: #Abres el bucle while, el que tiene posibilidad de hacerte un retorno, vamos\n",
    "    userchoice = int(input(\"Elige un número entero:\")) #declaras el imput\n",
    "    if userchoice%2==0: #aquí ya abres el ifelse, distinguiendo esa división con el mod bc te da resto cero\n",
    "        print (\"este número es par\")\n",
    "        continue #esta es la gracia, aquí vuelve a abrir el userchoiceintinput!!!!!\n",
    "    else:\n",
    "        print (\"este número es impar\")\n",
    "        continue"
   ]
  },
  {
   "cell_type": "code",
   "execution_count": null,
   "id": "03e18ace",
   "metadata": {},
   "outputs": [],
   "source": []
  }
 ],
 "metadata": {
  "kernelspec": {
   "display_name": "Python 3 (ipykernel)",
   "language": "python",
   "name": "python3"
  },
  "language_info": {
   "codemirror_mode": {
    "name": "ipython",
    "version": 3
   },
   "file_extension": ".py",
   "mimetype": "text/x-python",
   "name": "python",
   "nbconvert_exporter": "python",
   "pygments_lexer": "ipython3",
   "version": "3.9.12"
  }
 },
 "nbformat": 4,
 "nbformat_minor": 5
}
