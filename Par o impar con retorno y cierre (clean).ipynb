{
 "cells": [
  {
   "cell_type": "markdown",
   "id": "41f00a8a",
   "metadata": {},
   "source": [
    "# Típico ejercicio de par/impar con retorno y cierre \n",
    "*Cuaderno de prácticas de Elen Jaxx*"
   ]
  },
  {
   "cell_type": "code",
   "execution_count": null,
   "id": "a50755af",
   "metadata": {},
   "outputs": [],
   "source": [
    "##mi primer borrador, sin interación chula, fue este:\n",
    "\n",
    "    #userchoice = int(input(\"Elige un número entero:\"))\n",
    "\n",
    "    #while userchoice%2==0:\n",
    "        #print (\"este número es par\")\n",
    "        #userchoice=int(input(\"Elige un número entero:\"))\n",
    "    \n",
    "    #else:\n",
    "        #print (\"este número es impar\")\n",
    "        #userchoice=int(input(\"Elige un número entero:\"))\n",
    "\n",
    "##El primer error está en la insistencia de integers. No es necesario declararlo tanto."
   ]
  },
  {
   "cell_type": "code",
   "execution_count": null,
   "id": "3e76f35b",
   "metadata": {},
   "outputs": [],
   "source": [
    "##mi segundo borrador, con interacción del usuario más elaborada:\n",
    "\n",
    "    #par_impar = True ##Hay que declarar True para que el bucle while funcione, pero me colé repitiendo par_impar\n",
    "    #while par_impar: \n",
    "        #userchoice = input(\"Elige un número entero, pulsa x para cerrar:\") ##int quitado para introducir la x de cierre\n",
    "        #if userchoice%2==0: ##aquí reconoce el integer\n",
    "            #print (\"este número es par\")\n",
    "            #continue ##permitimos el loop\n",
    "        #elif userchoice == (\"x\"):\n",
    "            #break ##sweet summer child, lo primero que tiene que reconocer es la excepción más pequeña, LA EQUIS VA ANTES\n",
    "        #else:\n",
    "            #print (\"este número es impar\")\n",
    "            #continue"
   ]
  },
  {
   "cell_type": "code",
   "execution_count": 1,
   "id": "6060ba6f",
   "metadata": {},
   "outputs": [
    {
     "name": "stdout",
     "output_type": "stream",
     "text": [
      "Elige número o pulsa x para cerrar:2\n",
      "Es par\n",
      "Elige número o pulsa x para cerrar:3\n",
      "Es impar\n",
      "Elige número o pulsa x para cerrar:x\n",
      "Cerrado\n"
     ]
    }
   ],
   "source": [
    "##Código limpio y funcional. \n",
    "\n",
    "while True: ##un buen cambio para abrir el loop\n",
    "    user_choice = input(\"Elige número o pulsa x para cerrar:\") \n",
    "    if user_choice == \"x\": ##primero la x porque es la excepción más pequeña\n",
    "        print (\"Cerrado\")\n",
    "        break\n",
    "    elif int(user_choice) %2 == 0: #a partir de aquí ya has formateado el imput a integers\n",
    "        print (\"Es par\")\n",
    "    else:\n",
    "        print (\"Es impar\")"
   ]
  },
  {
   "cell_type": "markdown",
   "id": "c754fac5",
   "metadata": {},
   "source": [
    ">**Problema**: el imput permite la entrada de cualquier texto, por lo que dá error si no es \"x\". \n",
    ">>**Mejora**: Estudiar los matchs y try/except para tener el control sobre los errores que se muestran al usuario."
   ]
  },
  {
   "cell_type": "code",
   "execution_count": null,
   "id": "8e9c8df7",
   "metadata": {},
   "outputs": [],
   "source": []
  }
 ],
 "metadata": {
  "kernelspec": {
   "display_name": "Python 3 (ipykernel)",
   "language": "python",
   "name": "python3"
  },
  "language_info": {
   "codemirror_mode": {
    "name": "ipython",
    "version": 3
   },
   "file_extension": ".py",
   "mimetype": "text/x-python",
   "name": "python",
   "nbconvert_exporter": "python",
   "pygments_lexer": "ipython3",
   "version": "3.9.12"
  }
 },
 "nbformat": 4,
 "nbformat_minor": 5
}
