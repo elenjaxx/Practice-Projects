{
 "cells": [
  {
   "cell_type": "code",
   "execution_count": 1,
   "id": "8d458569",
   "metadata": {},
   "outputs": [],
   "source": [
    "import tkinter as tk\n",
    "from tkinter import messagebox,ttk"
   ]
  },
  {
   "cell_type": "code",
   "execution_count": 2,
   "id": "ea43bf07",
   "metadata": {},
   "outputs": [],
   "source": [
    "import random"
   ]
  },
  {
   "cell_type": "code",
   "execution_count": 3,
   "id": "7ca639fd",
   "metadata": {},
   "outputs": [],
   "source": [
    "taskchoices = (\"Sweep the floor\", \"Take the trash out\", \"Answer your mails\", \"Go for a walk\", \"Clean your room\", \n",
    "              \"clean the bathroom\", \"open all windows\", \"clean your computer\", \"prepare the meals for the day or week\",\n",
    "              \"take a shower\", \"call a friend\", \"drink some water\", \"work on your latest project\", \"do some journaling\",\n",
    "              \"update your resume\", \"pay the bills\", \"manage your professional social media\", \"go to sleep\")"
   ]
  },
  {
   "cell_type": "code",
   "execution_count": null,
   "id": "65e41cf4",
   "metadata": {},
   "outputs": [],
   "source": [
    "def clicker ():\n",
    "    messagebox.showinfo(message=random.choice(taskchoices), title=\"Your Quest Is\")\n",
    "root= tk.Tk()\n",
    "root.config(width=200, height=200)\n",
    "root.title (\"Random Daily Chore\")\n",
    "clicker =ttk.Button (text=\"request a mission\", command=clicker)\n",
    "clicker.place(x=50, y=59)\n",
    "root.mainloop()"
   ]
  },
  {
   "cell_type": "code",
   "execution_count": null,
   "id": "b0e37be8",
   "metadata": {},
   "outputs": [],
   "source": [
    "#this program allows you to be given a task without thinking it too much. \n",
    "#the idea is to do the task, no questions asked, even though anxiety or depression are hars on you."
   ]
  }
 ],
 "metadata": {
  "kernelspec": {
   "display_name": "Python 3 (ipykernel)",
   "language": "python",
   "name": "python3"
  },
  "language_info": {
   "codemirror_mode": {
    "name": "ipython",
    "version": 3
   },
   "file_extension": ".py",
   "mimetype": "text/x-python",
   "name": "python",
   "nbconvert_exporter": "python",
   "pygments_lexer": "ipython3",
   "version": "3.9.12"
  }
 },
 "nbformat": 4,
 "nbformat_minor": 5
}
